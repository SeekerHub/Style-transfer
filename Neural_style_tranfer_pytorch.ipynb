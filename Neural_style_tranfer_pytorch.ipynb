{
  "nbformat": 4,
  "nbformat_minor": 0,
  "metadata": {
    "colab": {
      "name": "Neral_style_tranfer_pytorch.ipynb",
      "provenance": [],
      "collapsed_sections": []
    },
    "kernelspec": {
      "name": "python3",
      "display_name": "Python 3"
    },
    "accelerator": "GPU",
    "widgets": {
      "application/vnd.jupyter.widget-state+json": {
        "f0754fe9b1dd46488dc1a813e0580f7d": {
          "model_module": "@jupyter-widgets/controls",
          "model_name": "HBoxModel",
          "state": {
            "_view_name": "HBoxView",
            "_dom_classes": [],
            "_model_name": "HBoxModel",
            "_view_module": "@jupyter-widgets/controls",
            "_model_module_version": "1.5.0",
            "_view_count": null,
            "_view_module_version": "1.5.0",
            "box_style": "",
            "layout": "IPY_MODEL_afc9d3f5b5f841d6a75da7c1c8c37304",
            "_model_module": "@jupyter-widgets/controls",
            "children": [
              "IPY_MODEL_75a40e1f75c34a6598610203a5f24aa7",
              "IPY_MODEL_54c5d1bc883148bd98cad986c5773e6d"
            ]
          }
        },
        "afc9d3f5b5f841d6a75da7c1c8c37304": {
          "model_module": "@jupyter-widgets/base",
          "model_name": "LayoutModel",
          "state": {
            "_view_name": "LayoutView",
            "grid_template_rows": null,
            "right": null,
            "justify_content": null,
            "_view_module": "@jupyter-widgets/base",
            "overflow": null,
            "_model_module_version": "1.2.0",
            "_view_count": null,
            "flex_flow": null,
            "width": null,
            "min_width": null,
            "border": null,
            "align_items": null,
            "bottom": null,
            "_model_module": "@jupyter-widgets/base",
            "top": null,
            "grid_column": null,
            "overflow_y": null,
            "overflow_x": null,
            "grid_auto_flow": null,
            "grid_area": null,
            "grid_template_columns": null,
            "flex": null,
            "_model_name": "LayoutModel",
            "justify_items": null,
            "grid_row": null,
            "max_height": null,
            "align_content": null,
            "visibility": null,
            "align_self": null,
            "height": null,
            "min_height": null,
            "padding": null,
            "grid_auto_rows": null,
            "grid_gap": null,
            "max_width": null,
            "order": null,
            "_view_module_version": "1.2.0",
            "grid_template_areas": null,
            "object_position": null,
            "object_fit": null,
            "grid_auto_columns": null,
            "margin": null,
            "display": null,
            "left": null
          }
        },
        "75a40e1f75c34a6598610203a5f24aa7": {
          "model_module": "@jupyter-widgets/controls",
          "model_name": "FloatProgressModel",
          "state": {
            "_view_name": "ProgressView",
            "style": "IPY_MODEL_7400088365e74103a2657d0591a99284",
            "_dom_classes": [],
            "description": "100%",
            "_model_name": "FloatProgressModel",
            "bar_style": "success",
            "max": 574673361,
            "_view_module": "@jupyter-widgets/controls",
            "_model_module_version": "1.5.0",
            "value": 574673361,
            "_view_count": null,
            "_view_module_version": "1.5.0",
            "orientation": "horizontal",
            "min": 0,
            "description_tooltip": null,
            "_model_module": "@jupyter-widgets/controls",
            "layout": "IPY_MODEL_ad21643c9ebe47dcaf3dbf26a07d4079"
          }
        },
        "54c5d1bc883148bd98cad986c5773e6d": {
          "model_module": "@jupyter-widgets/controls",
          "model_name": "HTMLModel",
          "state": {
            "_view_name": "HTMLView",
            "style": "IPY_MODEL_0d61ef9dc81a4ee69b296b32120693b1",
            "_dom_classes": [],
            "description": "",
            "_model_name": "HTMLModel",
            "placeholder": "​",
            "_view_module": "@jupyter-widgets/controls",
            "_model_module_version": "1.5.0",
            "value": " 548M/548M [05:14&lt;00:00, 1.83MB/s]",
            "_view_count": null,
            "_view_module_version": "1.5.0",
            "description_tooltip": null,
            "_model_module": "@jupyter-widgets/controls",
            "layout": "IPY_MODEL_2b965e73c1944ab28df713f083d5f18a"
          }
        },
        "7400088365e74103a2657d0591a99284": {
          "model_module": "@jupyter-widgets/controls",
          "model_name": "ProgressStyleModel",
          "state": {
            "_view_name": "StyleView",
            "_model_name": "ProgressStyleModel",
            "description_width": "initial",
            "_view_module": "@jupyter-widgets/base",
            "_model_module_version": "1.5.0",
            "_view_count": null,
            "_view_module_version": "1.2.0",
            "bar_color": null,
            "_model_module": "@jupyter-widgets/controls"
          }
        },
        "ad21643c9ebe47dcaf3dbf26a07d4079": {
          "model_module": "@jupyter-widgets/base",
          "model_name": "LayoutModel",
          "state": {
            "_view_name": "LayoutView",
            "grid_template_rows": null,
            "right": null,
            "justify_content": null,
            "_view_module": "@jupyter-widgets/base",
            "overflow": null,
            "_model_module_version": "1.2.0",
            "_view_count": null,
            "flex_flow": null,
            "width": null,
            "min_width": null,
            "border": null,
            "align_items": null,
            "bottom": null,
            "_model_module": "@jupyter-widgets/base",
            "top": null,
            "grid_column": null,
            "overflow_y": null,
            "overflow_x": null,
            "grid_auto_flow": null,
            "grid_area": null,
            "grid_template_columns": null,
            "flex": null,
            "_model_name": "LayoutModel",
            "justify_items": null,
            "grid_row": null,
            "max_height": null,
            "align_content": null,
            "visibility": null,
            "align_self": null,
            "height": null,
            "min_height": null,
            "padding": null,
            "grid_auto_rows": null,
            "grid_gap": null,
            "max_width": null,
            "order": null,
            "_view_module_version": "1.2.0",
            "grid_template_areas": null,
            "object_position": null,
            "object_fit": null,
            "grid_auto_columns": null,
            "margin": null,
            "display": null,
            "left": null
          }
        },
        "0d61ef9dc81a4ee69b296b32120693b1": {
          "model_module": "@jupyter-widgets/controls",
          "model_name": "DescriptionStyleModel",
          "state": {
            "_view_name": "StyleView",
            "_model_name": "DescriptionStyleModel",
            "description_width": "",
            "_view_module": "@jupyter-widgets/base",
            "_model_module_version": "1.5.0",
            "_view_count": null,
            "_view_module_version": "1.2.0",
            "_model_module": "@jupyter-widgets/controls"
          }
        },
        "2b965e73c1944ab28df713f083d5f18a": {
          "model_module": "@jupyter-widgets/base",
          "model_name": "LayoutModel",
          "state": {
            "_view_name": "LayoutView",
            "grid_template_rows": null,
            "right": null,
            "justify_content": null,
            "_view_module": "@jupyter-widgets/base",
            "overflow": null,
            "_model_module_version": "1.2.0",
            "_view_count": null,
            "flex_flow": null,
            "width": null,
            "min_width": null,
            "border": null,
            "align_items": null,
            "bottom": null,
            "_model_module": "@jupyter-widgets/base",
            "top": null,
            "grid_column": null,
            "overflow_y": null,
            "overflow_x": null,
            "grid_auto_flow": null,
            "grid_area": null,
            "grid_template_columns": null,
            "flex": null,
            "_model_name": "LayoutModel",
            "justify_items": null,
            "grid_row": null,
            "max_height": null,
            "align_content": null,
            "visibility": null,
            "align_self": null,
            "height": null,
            "min_height": null,
            "padding": null,
            "grid_auto_rows": null,
            "grid_gap": null,
            "max_width": null,
            "order": null,
            "_view_module_version": "1.2.0",
            "grid_template_areas": null,
            "object_position": null,
            "object_fit": null,
            "grid_auto_columns": null,
            "margin": null,
            "display": null,
            "left": null
          }
        }
      }
    }
  },
  "cells": [
    {
      "cell_type": "code",
      "metadata": {
        "id": "LUY-vlxhQ3-K"
      },
      "source": [
        "import torch\n",
        "import torch.nn as nn\n",
        "import torch.optim  as optim\n",
        "from PIL import Image\n",
        "import torchvision.transforms as tt\n",
        "import torchvision.models as models\n",
        "from torchvision.utils import save_image"
      ],
      "execution_count": 26,
      "outputs": []
    },
    {
      "cell_type": "code",
      "metadata": {
        "colab": {
          "base_uri": "https://localhost:8080/",
          "height": 815,
          "referenced_widgets": [
            "f0754fe9b1dd46488dc1a813e0580f7d",
            "afc9d3f5b5f841d6a75da7c1c8c37304",
            "75a40e1f75c34a6598610203a5f24aa7",
            "54c5d1bc883148bd98cad986c5773e6d",
            "7400088365e74103a2657d0591a99284",
            "ad21643c9ebe47dcaf3dbf26a07d4079",
            "0d61ef9dc81a4ee69b296b32120693b1",
            "2b965e73c1944ab28df713f083d5f18a"
          ]
        },
        "id": "4yigxX4LRheB",
        "outputId": "e817fd39-32ba-466d-c926-812f426db87d"
      },
      "source": [
        "model = models.vgg19(pretrained=True).features\n",
        "model"
      ],
      "execution_count": 27,
      "outputs": [
        {
          "output_type": "stream",
          "text": [
            "Downloading: \"https://download.pytorch.org/models/vgg19-dcbb9e9d.pth\" to /root/.cache/torch/hub/checkpoints/vgg19-dcbb9e9d.pth\n"
          ],
          "name": "stderr"
        },
        {
          "output_type": "display_data",
          "data": {
            "application/vnd.jupyter.widget-view+json": {
              "model_id": "f0754fe9b1dd46488dc1a813e0580f7d",
              "version_minor": 0,
              "version_major": 2
            },
            "text/plain": [
              "HBox(children=(FloatProgress(value=0.0, max=574673361.0), HTML(value='')))"
            ]
          },
          "metadata": {
            "tags": []
          }
        },
        {
          "output_type": "stream",
          "text": [
            "\n"
          ],
          "name": "stdout"
        },
        {
          "output_type": "execute_result",
          "data": {
            "text/plain": [
              "Sequential(\n",
              "  (0): Conv2d(3, 64, kernel_size=(3, 3), stride=(1, 1), padding=(1, 1))\n",
              "  (1): ReLU(inplace=True)\n",
              "  (2): Conv2d(64, 64, kernel_size=(3, 3), stride=(1, 1), padding=(1, 1))\n",
              "  (3): ReLU(inplace=True)\n",
              "  (4): MaxPool2d(kernel_size=2, stride=2, padding=0, dilation=1, ceil_mode=False)\n",
              "  (5): Conv2d(64, 128, kernel_size=(3, 3), stride=(1, 1), padding=(1, 1))\n",
              "  (6): ReLU(inplace=True)\n",
              "  (7): Conv2d(128, 128, kernel_size=(3, 3), stride=(1, 1), padding=(1, 1))\n",
              "  (8): ReLU(inplace=True)\n",
              "  (9): MaxPool2d(kernel_size=2, stride=2, padding=0, dilation=1, ceil_mode=False)\n",
              "  (10): Conv2d(128, 256, kernel_size=(3, 3), stride=(1, 1), padding=(1, 1))\n",
              "  (11): ReLU(inplace=True)\n",
              "  (12): Conv2d(256, 256, kernel_size=(3, 3), stride=(1, 1), padding=(1, 1))\n",
              "  (13): ReLU(inplace=True)\n",
              "  (14): Conv2d(256, 256, kernel_size=(3, 3), stride=(1, 1), padding=(1, 1))\n",
              "  (15): ReLU(inplace=True)\n",
              "  (16): Conv2d(256, 256, kernel_size=(3, 3), stride=(1, 1), padding=(1, 1))\n",
              "  (17): ReLU(inplace=True)\n",
              "  (18): MaxPool2d(kernel_size=2, stride=2, padding=0, dilation=1, ceil_mode=False)\n",
              "  (19): Conv2d(256, 512, kernel_size=(3, 3), stride=(1, 1), padding=(1, 1))\n",
              "  (20): ReLU(inplace=True)\n",
              "  (21): Conv2d(512, 512, kernel_size=(3, 3), stride=(1, 1), padding=(1, 1))\n",
              "  (22): ReLU(inplace=True)\n",
              "  (23): Conv2d(512, 512, kernel_size=(3, 3), stride=(1, 1), padding=(1, 1))\n",
              "  (24): ReLU(inplace=True)\n",
              "  (25): Conv2d(512, 512, kernel_size=(3, 3), stride=(1, 1), padding=(1, 1))\n",
              "  (26): ReLU(inplace=True)\n",
              "  (27): MaxPool2d(kernel_size=2, stride=2, padding=0, dilation=1, ceil_mode=False)\n",
              "  (28): Conv2d(512, 512, kernel_size=(3, 3), stride=(1, 1), padding=(1, 1))\n",
              "  (29): ReLU(inplace=True)\n",
              "  (30): Conv2d(512, 512, kernel_size=(3, 3), stride=(1, 1), padding=(1, 1))\n",
              "  (31): ReLU(inplace=True)\n",
              "  (32): Conv2d(512, 512, kernel_size=(3, 3), stride=(1, 1), padding=(1, 1))\n",
              "  (33): ReLU(inplace=True)\n",
              "  (34): Conv2d(512, 512, kernel_size=(3, 3), stride=(1, 1), padding=(1, 1))\n",
              "  (35): ReLU(inplace=True)\n",
              "  (36): MaxPool2d(kernel_size=2, stride=2, padding=0, dilation=1, ceil_mode=False)\n",
              ")"
            ]
          },
          "metadata": {
            "tags": []
          },
          "execution_count": 27
        }
      ]
    },
    {
      "cell_type": "code",
      "metadata": {
        "id": "Ck-oJkCzR_mU",
        "colab": {
          "base_uri": "https://localhost:8080/"
        },
        "outputId": "bf01b81f-55a5-409d-8914-74e981cb4c0c"
      },
      "source": [
        "# ['0', '5', '10', '19', '28']\n",
        "import matplotlib.pyplot as plt\n",
        "\n",
        "noise = torch.randn([356, 356], requires_grad =  True).detach().numpy()\n",
        "noise_2 = torch.randn([356, 356], requires_grad =  True)\n",
        "# noise = torch.randn(3, 200, 200, requires_grad = True)\n",
        "# plt.imshow(noise)\n",
        "\n",
        "gented = orig_img.clone().requires_grad_(True)\n",
        "print(type(noise))\n",
        "print(gented.shape)"
      ],
      "execution_count": 32,
      "outputs": [
        {
          "output_type": "stream",
          "text": [
            "<class 'numpy.ndarray'>\n",
            "torch.Size([1, 3, 356, 356])\n"
          ],
          "name": "stdout"
        }
      ]
    },
    {
      "cell_type": "code",
      "metadata": {
        "id": "lEFvAWTuSLBY"
      },
      "source": [
        "class VGG(nn.Module):\n",
        "  def __init__(self):\n",
        "    super(VGG, self).__init__()\n",
        "\n",
        "    self.chosen_feature = ['0', '5', '10', '19', '28']\n",
        "    self.model = models.vgg19(pretrained=True).features[:29]\n",
        "\n",
        "  def forward(self, x):\n",
        "    features = []\n",
        "\n",
        "    for layer_num, layer in enumerate(self.model):\n",
        "      x = layer(x)\n",
        "\n",
        "      if str(layer_num) in self.chosen_feature:\n",
        "        features.append(x)\n",
        "\n",
        "\n",
        "    return features\n",
        "\n",
        "def load_image(image_name):\n",
        "  \n",
        "  image = Image.open(image_name)\n",
        "  image = loader(image).unsqueeze(0)\n",
        "  \n",
        "  return image.to(device)\n",
        "\n",
        "device = torch.device('cuda' if torch.cuda.is_available else \"cpu\")\n",
        "image_size = 356\n",
        "\n",
        "loader = tt.Compose([tt.Resize((image_size, image_size)),\n",
        "                            tt.ToTensor(),\n",
        "                            # tt.Normalize()\n",
        "                            ])\n",
        "\n"
      ],
      "execution_count": 29,
      "outputs": []
    },
    {
      "cell_type": "code",
      "metadata": {
        "colab": {
          "base_uri": "https://localhost:8080/"
        },
        "id": "DLfiiBrPUkgc",
        "outputId": "5b683f13-9c3a-4c3f-df20-416ea38d5838"
      },
      "source": [
        "\n",
        "orig_img = load_image('alona-tal.jpg')\n",
        "style_image = load_image('style.jpg')\n",
        "\n",
        "model = VGG().to(device).eval()\n",
        "\n",
        "# gented = orig_img.clone().requires_grad_(True)\n",
        "gented = torch.randn([1,3,image_size, image_size], requires_grad =  True, device = \"cuda\")\n",
        "\n",
        "tot_steps = 5000\n",
        "lr = 0.001\n",
        "alpha = 1\n",
        "beta = 0.01\n",
        "optimizer = optim.Adam([gented], lr = lr)\n",
        "\n",
        "for step in range(tot_steps):\n",
        "  gen_feature = model(gented)\n",
        "  orig_img_feature = model(orig_img)\n",
        "  style_feature = model(style_image)\n",
        "\n",
        "  style_loss = original_loss = 0\n",
        "\n",
        "  for gene_feature, orig_feature, style_feat in zip(gen_feature, orig_img_feature, style_feature):\n",
        "    \n",
        "      batch_size, channel, height, width = gene_feature.shape\n",
        "      original_loss += torch.mean((gene_feature - orig_feature)**2)\n",
        "\n",
        "\n",
        "      #GRAM MATRIX\n",
        "      g = gene_feature.view(channel, height*width).mm(\n",
        "          gene_feature.view(channel, height*width).t()\n",
        "      )\n",
        "\n",
        "      A = style_feat.view(channel, height*width).mm(\n",
        "          style_feat.view(channel, height*width).t()\n",
        "      )\n",
        "\n",
        "      style_loss += torch.mean((g-A)**2)\n",
        "\n",
        "  total_loss = alpha*original_loss + beta*style_loss\n",
        "  optimizer.zero_grad()\n",
        "  total_loss.backward()\n",
        "  optimizer.step()\n",
        "\n",
        "  if step%200 ==0:\n",
        "    print(total_loss)\n",
        "    save_image(gented, \"generated.jpg\")\n"
      ],
      "execution_count": null,
      "outputs": [
        {
          "output_type": "stream",
          "text": [
            "tensor(5.4942e+08, device='cuda:0', grad_fn=<AddBackward0>)\n",
            "tensor(1.8482e+08, device='cuda:0', grad_fn=<AddBackward0>)\n",
            "tensor(98093696., device='cuda:0', grad_fn=<AddBackward0>)\n",
            "tensor(63154960., device='cuda:0', grad_fn=<AddBackward0>)\n",
            "tensor(45412552., device='cuda:0', grad_fn=<AddBackward0>)\n",
            "tensor(34919248., device='cuda:0', grad_fn=<AddBackward0>)\n",
            "tensor(27613510., device='cuda:0', grad_fn=<AddBackward0>)\n",
            "tensor(22060446., device='cuda:0', grad_fn=<AddBackward0>)\n",
            "tensor(17789366., device='cuda:0', grad_fn=<AddBackward0>)\n",
            "tensor(14595684., device='cuda:0', grad_fn=<AddBackward0>)\n",
            "tensor(12192102., device='cuda:0', grad_fn=<AddBackward0>)\n",
            "tensor(10309004., device='cuda:0', grad_fn=<AddBackward0>)\n",
            "tensor(8797890., device='cuda:0', grad_fn=<AddBackward0>)\n",
            "tensor(7577359., device='cuda:0', grad_fn=<AddBackward0>)\n",
            "tensor(6577559.5000, device='cuda:0', grad_fn=<AddBackward0>)\n",
            "tensor(5744880., device='cuda:0', grad_fn=<AddBackward0>)\n",
            "tensor(5037869., device='cuda:0', grad_fn=<AddBackward0>)\n",
            "tensor(4425220.5000, device='cuda:0', grad_fn=<AddBackward0>)\n"
          ],
          "name": "stdout"
        }
      ]
    }
  ]
}